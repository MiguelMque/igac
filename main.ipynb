{
 "cells": [
  {
   "cell_type": "code",
   "execution_count": 1,
   "metadata": {},
   "outputs": [],
   "source": [
    "import numpy as np\n",
    "import pandas as pd\n",
    "import tensorflow as tf\n",
    "import glob\n",
    "import os\n",
    "from sklearn.model_selection import train_test_split\n",
    "\n",
    "from src.data.fincaraiz_webscrapping import webscrapping\n",
    "from src.data.make_dataset import leer_csv_fr,leer_csv_datosigac\n",
    "from src.features.limpieza_de_datos_igac import limpieza_datos"
   ]
  },
  {
   "cell_type": "code",
   "execution_count": 3,
   "metadata": {},
   "outputs": [
    {
     "ename": "ParserError",
     "evalue": "Error tokenizing data. C error: Calling read(nbytes) on source failed. Try engine='python'.",
     "output_type": "error",
     "traceback": [
      "Traceback \u001b[1;36m(most recent call last)\u001b[0m:\n",
      "  File \u001b[0;32m\"<ipython-input-3-a333e997190d>\"\u001b[0m, line \u001b[0;32m12\u001b[0m, in \u001b[0;35m<module>\u001b[0m\n    avaluo,general_asp,detail_asp,dest=leer_csv_datosigac(DATA_PATH)\n",
      "  File \u001b[0;32m\"C:\\Users\\egome\\Documents\\DS4\\repositorio\\igac\\src\\data\\make_dataset.py\"\u001b[0m, line \u001b[0;32m10\u001b[0m, in \u001b[0;35mleer_csv_datosigac\u001b[0m\n    df2=pd.read_csv(data_path+'/TOTAL_NACIONAL_REG1.txt',sep=\"\\t\",encoding='latin-1')\n",
      "  File \u001b[0;32m\"C:\\ProgramData\\Anaconda3\\lib\\site-packages\\pandas\\io\\parsers.py\"\u001b[0m, line \u001b[0;32m676\u001b[0m, in \u001b[0;35mparser_f\u001b[0m\n    return _read(filepath_or_buffer, kwds)\n",
      "  File \u001b[0;32m\"C:\\ProgramData\\Anaconda3\\lib\\site-packages\\pandas\\io\\parsers.py\"\u001b[0m, line \u001b[0;32m454\u001b[0m, in \u001b[0;35m_read\u001b[0m\n    data = parser.read(nrows)\n",
      "  File \u001b[0;32m\"C:\\ProgramData\\Anaconda3\\lib\\site-packages\\pandas\\io\\parsers.py\"\u001b[0m, line \u001b[0;32m1133\u001b[0m, in \u001b[0;35mread\u001b[0m\n    ret = self._engine.read(nrows)\n",
      "  File \u001b[0;32m\"C:\\ProgramData\\Anaconda3\\lib\\site-packages\\pandas\\io\\parsers.py\"\u001b[0m, line \u001b[0;32m2037\u001b[0m, in \u001b[0;35mread\u001b[0m\n    data = self._reader.read(nrows)\n",
      "  File \u001b[0;32m\"pandas\\_libs\\parsers.pyx\"\u001b[0m, line \u001b[0;32m860\u001b[0m, in \u001b[0;35mpandas._libs.parsers.TextReader.read\u001b[0m\n",
      "  File \u001b[0;32m\"pandas\\_libs\\parsers.pyx\"\u001b[0m, line \u001b[0;32m875\u001b[0m, in \u001b[0;35mpandas._libs.parsers.TextReader._read_low_memory\u001b[0m\n",
      "  File \u001b[0;32m\"pandas\\_libs\\parsers.pyx\"\u001b[0m, line \u001b[0;32m929\u001b[0m, in \u001b[0;35mpandas._libs.parsers.TextReader._read_rows\u001b[0m\n",
      "  File \u001b[0;32m\"pandas\\_libs\\parsers.pyx\"\u001b[0m, line \u001b[0;32m916\u001b[0m, in \u001b[0;35mpandas._libs.parsers.TextReader._tokenize_rows\u001b[0m\n",
      "\u001b[1;36m  File \u001b[1;32m\"pandas\\_libs\\parsers.pyx\"\u001b[1;36m, line \u001b[1;32m2071\u001b[1;36m, in \u001b[1;35mpandas._libs.parsers.raise_parser_error\u001b[1;36m\u001b[0m\n",
      "\u001b[1;31mParserError\u001b[0m\u001b[1;31m:\u001b[0m Error tokenizing data. C error: Calling read(nbytes) on source failed. Try engine='python'.\n"
     ]
    }
   ],
   "source": [
    "if __name__ == \"__main__\":\n",
    "    DATA_PATH = os.path.join(os.getcwd(), \"data\")\n",
    "    MODELS_PATH = os.path.join(os.getcwd(), \"models\")\n",
    "    #model_path = os.path.join(MODELS_PATH, model_name + \"_\" + model_version)\n",
    "    \n",
    "    #lectura de datos\n",
    "    #datos_descargados = 1\n",
    "    #if datos_descargados==0:\n",
    "        #df=webscrapping(DATA_PATH)\n",
    "    #else:\n",
    "        #df=leer_csv_fr(DATA_PATH)\n",
    "    avaluo,general_asp,detail_asp,dest=leer_csv_datosigac(DATA_PATH)\n",
    "    \n",
    "    #limpieza igac\n",
    "    limpieza_datos(DATA_PATH,avaluo,general_asp,detail_asp)"
   ]
  },
  {
   "cell_type": "code",
   "execution_count": null,
   "metadata": {},
   "outputs": [],
   "source": []
  }
 ],
 "metadata": {
  "kernelspec": {
   "display_name": "Python 3 (Spyder)",
   "language": "python3",
   "name": "python3"
  },
  "language_info": {
   "codemirror_mode": {
    "name": "ipython",
    "version": 3
   },
   "file_extension": ".py",
   "mimetype": "text/x-python",
   "name": "python",
   "nbconvert_exporter": "python",
   "pygments_lexer": "ipython3",
   "version": "3.7.7"
  }
 },
 "nbformat": 4,
 "nbformat_minor": 4
}
