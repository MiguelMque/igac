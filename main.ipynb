{
 "cells": [
  {
   "cell_type": "code",
   "execution_count": 1,
   "metadata": {},
   "outputs": [],
   "source": [
    "import numpy as np\n",
    "import pandas as pd\n",
    "import tensorflow as tf\n",
    "import glob\n",
    "import os\n",
    "from sklearn.model_selection import train_test_split\n",
    "\n",
    "from src.data.fincaraiz_webscrapping import webscrapping\n",
    "from src.data.make_dataset import leer_csv_fr,leer_csv_datosigac\n",
    "from src.features.limpieza_de_datos_igac import limpieza_datos\n",
    "from src.features.limpieza_datos_exogena import concat_data_exogena\n"
   ]
  },
  {
   "cell_type": "code",
   "execution_count": 2,
   "metadata": {},
   "outputs": [
    {
     "name": "stderr",
     "output_type": "stream",
     "text": [
      "C:\\ProgramData\\Anaconda3\\lib\\site-packages\\IPython\\core\\interactiveshell.py:3263: DtypeWarning: Columns (2) have mixed types.Specify dtype option on import or set low_memory=False.\n",
      "  if (await self.run_code(code, result,  async_=asy)):\n"
     ]
    }
   ],
   "source": [
    "if __name__ == \"__main__\":\n",
    "    DATA_PATH = os.path.join(os.getcwd(), \"data\")\n",
    "    MODELS_PATH = os.path.join(os.getcwd(), \"models\")\n",
    "    model_path = os.path.join(MODELS_PATH, model_name + \"_\" + model_version)\n",
    "    lista_municipios=['villavicencio','fusagasuga','manizales']\n",
    "    weblinks = [\n",
    "    \"https://www.fincaraiz.com.co/Inmuebles_Comerciales/venta/villavicencio/\",\n",
    "    \"https://www.fincaraiz.com.co/Inmuebles_Comerciales/venta/fusagasuga/\",\n",
    "    \"https://www.fincaraiz.com.co/Inmuebles_Comerciales/venta/manizales/\",\n",
    "    \"https://www.fincaraiz.com.co/Vivienda/venta/villavicencio/\",\n",
    "    \"https://www.fincaraiz.com.co/Vivienda/venta/fusagasuga/\",\n",
    "    \"https://www.fincaraiz.com.co/Vivienda/venta/manizales/\",\n",
    "    ]\n",
    "    \n",
    "    #lectura de datos\n",
    "    datos_descargados = 1\n",
    "    if datos_descargados==0:#para no hacer el scrapping\n",
    "        df=webscrapping(DATA_PATH)\n",
    "    else:\n",
    "        df=leer_csv_fr(DATA_PATH)\n",
    "    \n",
    "    avaluo,general_asp,detail_asp,dest=leer_csv_datosigac(DATA_PATH)\n",
    "    \n",
    "    #limpieza igac\n",
    "    limpieza_datos(DATA_PATH,avaluo,general_asp,detail_asp)\n",
    "    \n",
    "    "
   ]
  },
  {
   "cell_type": "code",
   "execution_count": null,
   "metadata": {},
   "outputs": [],
   "source": []
  }
 ],
 "metadata": {
  "kernelspec": {
   "display_name": "Python 3 (Spyder)",
   "language": "python3",
   "name": "python3"
  },
  "language_info": {
   "codemirror_mode": {
    "name": "ipython",
    "version": 3
   },
   "file_extension": ".py",
   "mimetype": "text/x-python",
   "name": "python",
   "nbconvert_exporter": "python",
   "pygments_lexer": "ipython3",
   "version": "3.7.7"
  }
 },
 "nbformat": 4,
 "nbformat_minor": 4
}
