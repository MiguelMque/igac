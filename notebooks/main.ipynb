{
 "metadata": {
  "language_info": {
   "codemirror_mode": {
    "name": "ipython",
    "version": 3
   },
   "file_extension": ".py",
   "mimetype": "text/x-python",
   "name": "python",
   "nbconvert_exporter": "python",
   "pygments_lexer": "ipython3",
   "version": 3
  },
  "orig_nbformat": 2
 },
 "nbformat": 4,
 "nbformat_minor": 2,
 "cells": [
  {
   "cell_type": "code",
   "execution_count": null,
   "metadata": {},
   "outputs": [],
   "source": [
    "import numpy as np\n",
    "import pandas as pd\n",
    "import tensorflow as tf\n",
    "import glob\n",
    "import os\n",
    "from sklearn.model_selection import train_test_split\n",
    "\n",
    "from data.fincaraiz_webscrapping import webscrapping\n",
    "from data.make_dataset import leer_csv_fr"
   ]
  },
  {
   "cell_type": "code",
   "execution_count": null,
   "metadata": {},
   "outputs": [],
   "source": [
    "if __name__ == \"__main__\":\n",
    "    DATA_PATH = os.path.join(os.getcwd(), \"data\")\n",
    "    MODELS_PATH = os.path.join(os.getcwd(), \"models\")\n",
    "    model_path = os.path.join(MODELS_PATH, model_name + \"_\" + model_version)\n",
    "    datos_descargados = 1\n",
    "    if datos_descargados==0:\n",
    "        df=webscrapping(DATA_PATH)\n",
    "    else:\n",
    "        df=leer_csv_fr(DATA_PATH)\n"
   ]
  }
 ]
}