{
 "cells": [
  {
   "cell_type": "code",
   "execution_count": null,
   "metadata": {},
   "outputs": [],
   "source": [
    "import numpy as np\n",
    "import pandas as pd\n",
    "import tensorflow as tf\n",
    "import glob\n",
    "import os\n",
    "from sklearn.model_selection import train_test_split\n",
    "\n",
    "from src.data.fincaraiz_webscrapping import webscrapping\n",
    "from src.data.make_dataset import leer_csv_fr\n",
    "from src.features.limpieza_de_datos_igac import limpieza_datos"
   ]
  },
  {
   "cell_type": "code",
   "execution_count": null,
   "metadata": {},
   "outputs": [],
   "source": [
    "if __name__ == \"__main__\":\n",
    "    DATA_PATH = os.path.join(os.getcwd(), \"data\")\n",
    "    MODELS_PATH = os.path.join(os.getcwd(), \"models\")\n",
    "    model_path = os.path.join(MODELS_PATH, model_name + \"_\" + model_version)\n",
    "    datos_descargados = 1\n",
    "    if datos_descargados==0:\n",
    "        df=webscrapping(DATA_PATH)\n",
    "    else:\n",
    "        df=leer_csv_fr(DATA_PATH)\n",
    "    avaluo,general_asp,detail_asp,dest=leer_csv_datosigac(DATA_PATH)\n",
    "    \n"
   ]
  }
 ],
 "metadata": {
  "kernelspec": {
   "display_name": "Python 3",
   "language": "python",
   "name": "python3"
  },
  "language_info": {
   "codemirror_mode": {
    "name": "ipython",
    "version": 3
   },
   "file_extension": ".py",
   "mimetype": "text/x-python",
   "name": "python",
   "nbconvert_exporter": "python",
   "pygments_lexer": "ipython3",
   "version": "3.7.7"
  }
 },
 "nbformat": 4,
 "nbformat_minor": 2
}
